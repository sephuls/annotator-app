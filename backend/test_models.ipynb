{
 "cells": [
  {
   "cell_type": "code",
   "execution_count": 1,
   "metadata": {},
   "outputs": [
    {
     "ename": "TypeError",
     "evalue": "'<' not supported between instances of 'int' and 'NoneType'",
     "output_type": "error",
     "traceback": [
      "\u001b[0;31m---------------------------------------------------------------------------\u001b[0m",
      "\u001b[0;31mTypeError\u001b[0m                                 Traceback (most recent call last)",
      "\u001b[1;32m/Users/sephuls/Desktop/studie/scriptie/annotator-app/backend/test_models.ipynb Cell 1\u001b[0m in \u001b[0;36m<cell line: 4>\u001b[0;34m()\u001b[0m\n\u001b[1;32m      <a href='vscode-notebook-cell:/Users/sephuls/Desktop/studie/scriptie/annotator-app/backend/test_models.ipynb#W2sZmlsZQ%3D%3D?line=0'>1</a>\u001b[0m \u001b[39mimport\u001b[39;00m \u001b[39mmodels\u001b[39;00m\n\u001b[1;32m      <a href='vscode-notebook-cell:/Users/sephuls/Desktop/studie/scriptie/annotator-app/backend/test_models.ipynb#W2sZmlsZQ%3D%3D?line=2'>3</a>\u001b[0m project \u001b[39m=\u001b[39m models\u001b[39m.\u001b[39mProject()\n\u001b[0;32m----> <a href='vscode-notebook-cell:/Users/sephuls/Desktop/studie/scriptie/annotator-app/backend/test_models.ipynb#W2sZmlsZQ%3D%3D?line=3'>4</a>\u001b[0m project\u001b[39m.\u001b[39;49madd_data_stream(video_file_path\u001b[39m=\u001b[39;49m\u001b[39m'\u001b[39;49m\u001b[39m../../data/Sep/qr_code_clip.mov\u001b[39;49m\u001b[39m'\u001b[39;49m)\n\u001b[1;32m      <a href='vscode-notebook-cell:/Users/sephuls/Desktop/studie/scriptie/annotator-app/backend/test_models.ipynb#W2sZmlsZQ%3D%3D?line=5'>6</a>\u001b[0m project\u001b[39m.\u001b[39m\u001b[39m__dict__\u001b[39m\n",
      "File \u001b[0;32m~/Desktop/studie/scriptie/annotator-app/backend/models.py:132\u001b[0m, in \u001b[0;36mProject.add_data_stream\u001b[0;34m(self, video_file_path, mo_cap_file_path)\u001b[0m\n\u001b[1;32m    129\u001b[0m data_stream \u001b[39m=\u001b[39m DataStream()\n\u001b[1;32m    130\u001b[0m data_stream\u001b[39m.\u001b[39madd_video_stream(video_file_path, sync\u001b[39m=\u001b[39m\u001b[39mTrue\u001b[39;00m)\n\u001b[0;32m--> 132\u001b[0m \u001b[39mif\u001b[39;00m data_stream\u001b[39m.\u001b[39;49mstart_index \u001b[39m<\u001b[39;49m \u001b[39mself\u001b[39;49m\u001b[39m.\u001b[39;49mstart_index:\n\u001b[1;32m    133\u001b[0m     \u001b[39mself\u001b[39m\u001b[39m.\u001b[39mstart_index \u001b[39m=\u001b[39m data_stream\u001b[39m.\u001b[39mstart_index\n\u001b[1;32m    135\u001b[0m \u001b[39mself\u001b[39m\u001b[39m.\u001b[39mdata_streams \u001b[39m+\u001b[39m\u001b[39m=\u001b[39m [data_stream]\n",
      "\u001b[0;31mTypeError\u001b[0m: '<' not supported between instances of 'int' and 'NoneType'"
     ]
    }
   ],
   "source": [
    "import models\n",
    "\n",
    "project = models.Project()\n",
    "project.add_data_stream(video_file_path='../../data/Sep/qr_code_clip.mov')\n",
    "\n",
    "project.__dict__"
   ]
  },
  {
   "cell_type": "code",
   "execution_count": null,
   "metadata": {},
   "outputs": [],
   "source": []
  }
 ],
 "metadata": {
  "kernelspec": {
   "display_name": "base",
   "language": "python",
   "name": "python3"
  },
  "language_info": {
   "codemirror_mode": {
    "name": "ipython",
    "version": 3
   },
   "file_extension": ".py",
   "mimetype": "text/x-python",
   "name": "python",
   "nbconvert_exporter": "python",
   "pygments_lexer": "ipython3",
   "version": "3.9.7"
  },
  "orig_nbformat": 4,
  "vscode": {
   "interpreter": {
    "hash": "c6e4e9f98eb68ad3b7c296f83d20e6de614cb42e90992a65aa266555a3137d0d"
   }
  }
 },
 "nbformat": 4,
 "nbformat_minor": 2
}
